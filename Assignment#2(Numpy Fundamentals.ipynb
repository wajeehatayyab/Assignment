{
 "cells": [
  {
   "cell_type": "markdown",
   "metadata": {},
   "source": [
    "# Numpy_Assignment_2::"
   ]
  },
  {
   "cell_type": "code",
   "execution_count": null,
   "metadata": {},
   "outputs": [],
   "source": [
    "import numpy as np"
   ]
  },
  {
   "cell_type": "markdown",
   "metadata": {},
   "source": [
    "## Question:1"
   ]
  },
  {
   "cell_type": "markdown",
   "metadata": {},
   "source": [
    "### Convert a 1D array to a 2D array with 2 rows?"
   ]
  },
  {
   "cell_type": "markdown",
   "metadata": {},
   "source": [
    "#### Desired output::"
   ]
  },
  {
   "cell_type": "markdown",
   "metadata": {},
   "source": [
    "array([[0, 1, 2, 3, 4],\n",
    "        [5, 6, 7, 8, 9]])"
   ]
  },
  {
   "cell_type": "code",
   "execution_count": null,
   "metadata": {},
   "outputs": [],
   "source": []
  },
  {
   "cell_type": "code",
   "execution_count": 14,
   "metadata": {},
   "outputs": [
    {
     "name": "stdout",
     "output_type": "stream",
     "text": [
      "[[0 1 2 3 4]\n",
      " [5 6 7 8 9]]\n"
     ]
    }
   ],
   "source": [
    "\n",
    "arr = np.array([0, 1, 2, 3, 4 , 5, 6, 7, 8, 9])\n",
    "arr = arr.reshape((2,5))\n",
    "print(arr)"
   ]
  },
  {
   "cell_type": "markdown",
   "metadata": {},
   "source": [
    "## Question:2"
   ]
  },
  {
   "cell_type": "markdown",
   "metadata": {},
   "source": [
    "###  How to stack two arrays vertically?"
   ]
  },
  {
   "cell_type": "markdown",
   "metadata": {},
   "source": [
    "#### Desired Output::"
   ]
  },
  {
   "cell_type": "raw",
   "metadata": {},
   "source": [
    "array([[0, 1, 2, 3, 4],\n",
    "        [5, 6, 7, 8, 9],\n",
    "       [1, 1, 1, 1, 1],\n",
    "       [1, 1, 1, 1, 1]])"
   ]
  },
  {
   "cell_type": "code",
   "execution_count": 15,
   "metadata": {},
   "outputs": [
    {
     "name": "stdout",
     "output_type": "stream",
     "text": [
      "[[0 1 2 3 4]\n",
      " [5 6 7 8 9]\n",
      " [1 1 1 1 1]\n",
      " [1 1 1 1 1]]\n"
     ]
    }
   ],
   "source": [
    "\n",
    "arr1 = np.array([[0, 1, 2, 3, 4],\n",
    "                [5, 6, 7, 8, 9]])\n",
    "arr2 = np.ones((2,5))\n",
    "arr3 = np.vstack((arr1,arr2))\n",
    "arr3 = arr3.astype('int32')\n",
    "print(arr3)"
   ]
  },
  {
   "cell_type": "markdown",
   "metadata": {},
   "source": [
    "## Question:3"
   ]
  },
  {
   "cell_type": "markdown",
   "metadata": {},
   "source": [
    "### How to stack two arrays horizontally?"
   ]
  },
  {
   "cell_type": "markdown",
   "metadata": {},
   "source": [
    "#### Desired Output::"
   ]
  },
  {
   "cell_type": "raw",
   "metadata": {},
   "source": [
    "array([[0, 1, 2, 3, 4, 1, 1, 1, 1, 1],\n",
    "       [5, 6, 7, 8, 9, 1, 1, 1, 1, 1]])"
   ]
  },
  {
   "cell_type": "code",
   "execution_count": 9,
   "metadata": {},
   "outputs": [
    {
     "name": "stdout",
     "output_type": "stream",
     "text": [
      "[[0 1 2 3 4 1 1 1 1 1]\n",
      " [5 6 7 8 9 1 1 1 1 1]]\n"
     ]
    }
   ],
   "source": [
    "\n",
    "arr4 = np.hstack((arr1,arr2))\n",
    "arr4 = arr4.astype('int32')\n",
    "print(arr4)"
   ]
  },
  {
   "cell_type": "markdown",
   "metadata": {},
   "source": [
    "## Question:4"
   ]
  },
  {
   "cell_type": "markdown",
   "metadata": {},
   "source": [
    "### How to convert an array of arrays into a flat 1d array?"
   ]
  },
  {
   "cell_type": "markdown",
   "metadata": {},
   "source": [
    "#### Desired Output::"
   ]
  },
  {
   "cell_type": "raw",
   "metadata": {},
   "source": [
    "array([0, 1, 2, 3, 4, 5, 6, 7, 8, 9])"
   ]
  },
  {
   "cell_type": "code",
   "execution_count": 16,
   "metadata": {},
   "outputs": [
    {
     "name": "stdout",
     "output_type": "stream",
     "text": [
      "[0 1 2 3 4 5 6 7 8 9]\n"
     ]
    }
   ],
   "source": [
    "\n",
    "arr = arr.flatten()\n",
    "print(arr)"
   ]
  },
  {
   "cell_type": "markdown",
   "metadata": {},
   "source": [
    "## Question:5"
   ]
  },
  {
   "cell_type": "markdown",
   "metadata": {},
   "source": [
    "### How to Convert higher dimension into one dimension?"
   ]
  },
  {
   "cell_type": "markdown",
   "metadata": {},
   "source": [
    "#### Desired Output::"
   ]
  },
  {
   "cell_type": "raw",
   "metadata": {},
   "source": [
    "array([ 0, 1, 2, 3, 4, 5, 6, 7, 8, 9, 10, 11, 12, 13, 14])"
   ]
  },
  {
   "cell_type": "code",
   "execution_count": 17,
   "metadata": {},
   "outputs": [
    {
     "name": "stdout",
     "output_type": "stream",
     "text": [
      "[ 0  1  2  3  4  5  6  7  8  9 10 11 12 13 14]\n"
     ]
    }
   ],
   "source": [
    "\n",
    "  arr5 = np.array([\n",
    "    [ 0, 1, 2],\n",
    "    [ 3, 4, 5],\n",
    "    [ 6, 7, 8],\n",
    "    [ 9, 10, 11],\n",
    "    [12, 13, 14]\n",
    "])\n",
    "arr5 = np.ravel(arr5)\n",
    "print(arr5)"
   ]
  },
  {
   "cell_type": "markdown",
   "metadata": {},
   "source": [
    "## Question:6"
   ]
  },
  {
   "cell_type": "markdown",
   "metadata": {},
   "source": [
    "### Convert one dimension to higher dimension?"
   ]
  },
  {
   "cell_type": "markdown",
   "metadata": {},
   "source": [
    "#### Desired Output::"
   ]
  },
  {
   "cell_type": "raw",
   "metadata": {},
   "source": [
    "array([[ 0, 1, 2],\n",
    "[ 3, 4, 5],\n",
    "[ 6, 7, 8],\n",
    "[ 9, 10, 11],\n",
    "[12, 13, 14]])"
   ]
  },
  {
   "cell_type": "code",
   "execution_count": 18,
   "metadata": {},
   "outputs": [
    {
     "data": {
      "text/plain": [
       "array([[ 0,  1,  2],\n",
       "       [ 3,  4,  5],\n",
       "       [ 6,  7,  8],\n",
       "       [ 9, 10, 11],\n",
       "       [12, 13, 14]])"
      ]
     },
     "execution_count": 18,
     "metadata": {},
     "output_type": "execute_result"
    }
   ],
   "source": [
    "arr5.reshape(5,3)"
   ]
  },
  {
   "cell_type": "markdown",
   "metadata": {},
   "source": [
    "## Question:7"
   ]
  },
  {
   "cell_type": "markdown",
   "metadata": {},
   "source": [
    "### Create 5x5 an array and find the square of an array?"
   ]
  },
  {
   "cell_type": "code",
   "execution_count": 19,
   "metadata": {},
   "outputs": [
    {
     "name": "stdout",
     "output_type": "stream",
     "text": [
      "Original Array: \n",
      "\n",
      "[[ 4  4 20  3  7]\n",
      " [ 8  9 24  3  3]\n",
      " [24 14 12 21 10]\n",
      " [ 4  1 11 24  9]\n",
      " [23 19  2 19  2]]\n",
      "\n",
      "\n",
      "Square of Array: \n",
      "\n",
      "[[ 16  16 400   9  49]\n",
      " [ 64  81 576   9   9]\n",
      " [576 196 144 441 100]\n",
      " [ 16   1 121 576  81]\n",
      " [529 361   4 361   4]]\n"
     ]
    }
   ],
   "source": [
    "arr6 = np.random.randint(1,25, size = (5,5))\n",
    "print(\"Original Array: \\n\")\n",
    "print (arr6)\n",
    "print(\"\\n\")\n",
    "print(\"Square of Array: \\n\")\n",
    "print(arr6 ** 2)"
   ]
  },
  {
   "cell_type": "markdown",
   "metadata": {},
   "source": [
    "## Question:8"
   ]
  },
  {
   "cell_type": "markdown",
   "metadata": {},
   "source": [
    "### Create 5x6 an array and find the mean?"
   ]
  },
  {
   "cell_type": "code",
   "execution_count": 20,
   "metadata": {},
   "outputs": [
    {
     "name": "stdout",
     "output_type": "stream",
     "text": [
      "Original Array: \n",
      "\n",
      "[[16 13  1  1 14 16]\n",
      " [ 1  2 19 16 13 18]\n",
      " [ 1 16 19 16 14  4]\n",
      " [ 3  9  4 10  8 17]\n",
      " [ 8 17  6  2  7  5]]\n",
      "\n",
      "\n",
      "Mean of Array: \n",
      "\n",
      "9.866666666666667\n"
     ]
    }
   ],
   "source": [
    "\n",
    "arr8 = np.random.randint(1,20, size = (5,6))\n",
    "print(\"Original Array: \\n\")\n",
    "print (arr8)\n",
    "print(\"\\n\")\n",
    "print(\"Mean of Array: \\n\")\n",
    "print(arr8.mean())"
   ]
  },
  {
   "cell_type": "markdown",
   "metadata": {},
   "source": [
    "## Question:9"
   ]
  },
  {
   "cell_type": "markdown",
   "metadata": {},
   "source": [
    "### Find the standard deviation of the previous array in Q8?"
   ]
  },
  {
   "cell_type": "code",
   "execution_count": 21,
   "metadata": {},
   "outputs": [
    {
     "name": "stdout",
     "output_type": "stream",
     "text": [
      "Original Array: \n",
      "\n",
      "[[16 13  1  1 14 16]\n",
      " [ 1  2 19 16 13 18]\n",
      " [ 1 16 19 16 14  4]\n",
      " [ 3  9  4 10  8 17]\n",
      " [ 8 17  6  2  7  5]]\n",
      "\n",
      "\n",
      "Standard deviation of Array: \n",
      "\n",
      "6.286139956726668\n"
     ]
    }
   ],
   "source": [
    "print(\"Original Array: \\n\")\n",
    "print (arr8)\n",
    "print(\"\\n\")\n",
    "print(\"Standard deviation of Array: \\n\")\n",
    "print(np.std(arr8))"
   ]
  },
  {
   "cell_type": "markdown",
   "metadata": {},
   "source": [
    "## Question:10"
   ]
  },
  {
   "cell_type": "markdown",
   "metadata": {},
   "source": [
    "### Find the median of the previous array in Q8?"
   ]
  },
  {
   "cell_type": "code",
   "execution_count": 22,
   "metadata": {},
   "outputs": [
    {
     "name": "stdout",
     "output_type": "stream",
     "text": [
      "Original Array: \n",
      "\n",
      "[[16 13  1  1 14 16]\n",
      " [ 1  2 19 16 13 18]\n",
      " [ 1 16 19 16 14  4]\n",
      " [ 3  9  4 10  8 17]\n",
      " [ 8 17  6  2  7  5]]\n",
      "\n",
      "\n",
      "Median of Array: \n",
      "\n",
      "9.5\n"
     ]
    }
   ],
   "source": [
    "\n",
    "print(\"Original Array: \\n\")\n",
    "print (arr8)\n",
    "print(\"\\n\")\n",
    "print(\"Median of Array: \\n\")\n",
    "print(np.median(arr8))"
   ]
  },
  {
   "cell_type": "markdown",
   "metadata": {},
   "source": [
    "## Question:11"
   ]
  },
  {
   "cell_type": "markdown",
   "metadata": {},
   "source": [
    "### Find the transpose of the previous array in Q8?"
   ]
  },
  {
   "cell_type": "code",
   "execution_count": 24,
   "metadata": {},
   "outputs": [
    {
     "name": "stdout",
     "output_type": "stream",
     "text": [
      "Original Array: \n",
      "\n",
      "[[16 13  1  1 14 16]\n",
      " [ 1  2 19 16 13 18]\n",
      " [ 1 16 19 16 14  4]\n",
      " [ 3  9  4 10  8 17]\n",
      " [ 8 17  6  2  7  5]]\n",
      "\n",
      "\n",
      "Transpose of Array: \n",
      "\n",
      "[[16  1  1  3  8]\n",
      " [13  2 16  9 17]\n",
      " [ 1 19 19  4  6]\n",
      " [ 1 16 16 10  2]\n",
      " [14 13 14  8  7]\n",
      " [16 18  4 17  5]]\n"
     ]
    }
   ],
   "source": [
    "print(\"Original Array: \\n\")\n",
    "print (arr8)\n",
    "print(\"\\n\")\n",
    "print(\"Transpose of Array: \\n\")\n",
    "print(np.transpose(arr8))"
   ]
  },
  {
   "cell_type": "markdown",
   "metadata": {},
   "source": [
    "## Question:12"
   ]
  },
  {
   "cell_type": "markdown",
   "metadata": {},
   "source": [
    "### Create a 4x4 an array and find the sum of diagonal elements?"
   ]
  },
  {
   "cell_type": "code",
   "execution_count": 25,
   "metadata": {},
   "outputs": [
    {
     "name": "stdout",
     "output_type": "stream",
     "text": [
      "Original Array: \n",
      "\n",
      "[[11  9 16 14]\n",
      " [19  1 18 10]\n",
      " [15  8  9  2]\n",
      " [16  3  7 14]]\n",
      "\n",
      "\n",
      "Sum of diagonal elements of Array: \n",
      "\n",
      "35\n"
     ]
    }
   ],
   "source": [
    "arr7 = np.random.randint(1,20, size = (4,4))\n",
    "print(\"Original Array: \\n\")\n",
    "print (arr7)\n",
    "print(\"\\n\")\n",
    "print(\"Sum of diagonal elements of Array: \\n\")\n",
    "print(np.trace(arr7))"
   ]
  },
  {
   "cell_type": "markdown",
   "metadata": {},
   "source": [
    "## Question:13"
   ]
  },
  {
   "cell_type": "markdown",
   "metadata": {},
   "source": [
    "### Find the determinant of the previous array in Q12?"
   ]
  },
  {
   "cell_type": "code",
   "execution_count": 26,
   "metadata": {},
   "outputs": [
    {
     "name": "stdout",
     "output_type": "stream",
     "text": [
      "Original Array: \n",
      "\n",
      "[[11  9 16 14]\n",
      " [19  1 18 10]\n",
      " [15  8  9  2]\n",
      " [16  3  7 14]]\n",
      "\n",
      "\n",
      "Determinant of Array: \n",
      "\n",
      "25380.000000000004\n"
     ]
    }
   ],
   "source": [
    "print(\"Original Array: \\n\")\n",
    "print (arr7)\n",
    "print(\"\\n\")\n",
    "print(\"Determinant of Array: \\n\")\n",
    "print(np.linalg.det(arr7))"
   ]
  },
  {
   "cell_type": "markdown",
   "metadata": {},
   "source": [
    "## Question:14"
   ]
  },
  {
   "cell_type": "markdown",
   "metadata": {},
   "source": [
    "### Find the 5th and 95th percentile of an array?"
   ]
  },
  {
   "cell_type": "code",
   "execution_count": 27,
   "metadata": {},
   "outputs": [
    {
     "name": "stdout",
     "output_type": "stream",
     "text": [
      "Original Array: \n",
      "\n",
      "[[11  9 16 14]\n",
      " [19  1 18 10]\n",
      " [15  8  9  2]\n",
      " [16  3  7 14]]\n",
      "\n",
      "\n",
      "5th percentile of array: 1.75\n",
      "95th percentile of array: 18.25\n"
     ]
    }
   ],
   "source": [
    "print(\"Original Array: \\n\")\n",
    "print (arr7)\n",
    "print(\"\\n\")\n",
    "print(f\"5th percentile of array: {np.percentile(arr7, 5)}\")\n",
    "print(f\"95th percentile of array: {np.percentile(arr7, 95)}\")"
   ]
  },
  {
   "cell_type": "markdown",
   "metadata": {},
   "source": [
    "## Question:15"
   ]
  },
  {
   "cell_type": "markdown",
   "metadata": {},
   "source": [
    "### How to find if a given array has any null values?"
   ]
  },
  {
   "cell_type": "code",
   "execution_count": null,
   "metadata": {},
   "outputs": [],
   "source": [
    "np.isnan(arr7).any()"
   ]
  }
 ],
 "metadata": {
  "kernelspec": {
   "display_name": "Python 3",
   "language": "python",
   "name": "python3"
  },
  "language_info": {
   "codemirror_mode": {
    "name": "ipython",
    "version": 3
   },
   "file_extension": ".py",
   "mimetype": "text/x-python",
   "name": "python",
   "nbconvert_exporter": "python",
   "pygments_lexer": "ipython3",
   "version": "3.8.5"
  }
 },
 "nbformat": 4,
 "nbformat_minor": 2
}
